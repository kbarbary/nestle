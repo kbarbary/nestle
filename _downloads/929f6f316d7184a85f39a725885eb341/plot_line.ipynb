{
  "cells": [
    {
      "cell_type": "markdown",
      "metadata": {},
      "source": [
        "\n# Line\n\nExample of fitting a straight line to some data.\n"
      ]
    },
    {
      "cell_type": "code",
      "execution_count": null,
      "metadata": {
        "collapsed": false
      },
      "outputs": [],
      "source": [
        "from __future__ import print_function\n\nimport numpy as np\nimport matplotlib.pyplot as plt\nimport corner\n\nimport nestle\n\nnp.random.seed(0)\n\ndef model(theta, x):\n    m, c = theta\n    return m*x + c\n\n# Generate some data\ntheta_true = [0.5, 10.0]\nN = 50\nx = np.sort(10*np.random.rand(N))\ny = model(theta_true, x) \nyerr = 0.1+0.5*np.random.rand(N)\ny += yerr * np.random.randn(N)\n\n\n# The likelihood function:\ndef loglike(theta):\n    return -0.5*(np.sum((y-model(theta, x))**2/yerr**2))\n\n\n# Defines a flat prior in 0 < m < 1, 0 < b < 100:\ndef prior_transform(theta):\n    return np.array([1., 100.]) * theta\n\n\n# Run nested sampling\nres = nestle.sample(loglike, prior_transform, 2, method='single',\n                    npoints=1000)\nprint(res.summary())\n\n# weighted average and covariance:\np, cov = nestle.mean_and_cov(res.samples, res.weights)\n\nprint(\"m = {0:5.2f} +/- {1:5.2f}\".format(p[0], np.sqrt(cov[0, 0])))\nprint(\"b = {0:5.2f} +/- {1:5.2f}\".format(p[1], np.sqrt(cov[1, 1])))\n\nplt.figure()\nplt.errorbar(x, y, yerr=yerr, capsize=0, fmt='k.', ecolor='.7')\nplt.plot([0., 10.], model(p, np.array([0., 10.])), c='k')\nplt.show()"
      ]
    },
    {
      "cell_type": "markdown",
      "metadata": {},
      "source": [
        "Plot samples to see the full posterior surface.\n\n"
      ]
    },
    {
      "cell_type": "code",
      "execution_count": null,
      "metadata": {
        "collapsed": false
      },
      "outputs": [],
      "source": [
        "fig = corner.corner(res.samples, weights=res.weights, labels=['m', 'b'],\n                    range=[0.99999, 0.99999], truths=theta_true, bins=30)\nplt.show()"
      ]
    }
  ],
  "metadata": {
    "kernelspec": {
      "display_name": "Python 3",
      "language": "python",
      "name": "python3"
    },
    "language_info": {
      "codemirror_mode": {
        "name": "ipython",
        "version": 3
      },
      "file_extension": ".py",
      "mimetype": "text/x-python",
      "name": "python",
      "nbconvert_exporter": "python",
      "pygments_lexer": "ipython3",
      "version": "3.11.13"
    }
  },
  "nbformat": 4,
  "nbformat_minor": 0
}