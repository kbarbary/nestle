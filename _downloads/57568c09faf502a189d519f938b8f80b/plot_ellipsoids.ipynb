{
  "cells": [
    {
      "cell_type": "markdown",
      "metadata": {},
      "source": [
        "\n# Bounding Ellipsoids\n\nIllustration of determining bounding ellipsoids in 3 dimensions.\n\nFor complex iso-likelihood surfaces (ones not well-approximated by a\nsingle ellipsoid), Nestle will bound the points in multiple ellipsoids\nwhen using the ``'multi'`` method. Here, we draw points uniformly\nfrom a torus and use Nestle to determine an optimal set of ellipses\nbounding the points.\n"
      ]
    },
    {
      "cell_type": "code",
      "execution_count": null,
      "metadata": {
        "collapsed": false
      },
      "outputs": [],
      "source": [
        "import math\n\nimport numpy as np\nfrom matplotlib import pyplot as plt\nfrom mpl_toolkits.mplot3d import Axes3D\n\nimport nestle\n\n# seed RNG for reproducible results\nnp.random.seed(0)\n\n\ndef rand_torus(ro, ri, npoints):\n    \"\"\"Generate points within a torus wth major radius `ro` and minor radius\n    `ri` via rejection sampling\"\"\"\n    out = np.empty((npoints, 3), dtype=np.float64)\n    i = 0\n    while i < npoints:\n        # generate point within box\n        x = np.random.uniform(-1., 1., size=3)\n        x[0:2] *= ro + ri\n        x[2] *= ri\n        \n        r = math.sqrt(x[0]**2 + x[1]**2) - ro\n        if (r**2 + x[2]**2 < ri**2):\n            out[i, :] = x\n            i += 1\n            \n    return out\n\n\ndef plot_ellipsoid_3d(ell, ax):\n    \"\"\"Plot the 3-d Ellipsoid ell on the Axes3D ax.\"\"\"\n    \n    # points on unit sphere\n    u = np.linspace(0.0, 2.0 * np.pi, 100)\n    v = np.linspace(0.0, np.pi, 100)\n    z = np.outer(np.cos(u), np.sin(v))\n    y = np.outer(np.sin(u), np.sin(v))\n    x = np.outer(np.ones_like(u), np.cos(v))\n    \n    # transform points to ellipsoid\n    for i in range(len(x)):\n        for j in range(len(x)):\n            x[i,j], y[i,j], z[i,j] = ell.ctr + np.dot(ell.axes,\n                                                      [x[i,j],y[i,j],z[i,j]])\n\n    ax.plot_wireframe(x, y, z,  rstride=4, cstride=4, color='#2980b9', alpha=0.2)\n\n\n# Generate points within a torus\nnpoints = 1000\nR = 1.0\nr = 0.1\npoints = rand_torus(R, r, npoints)\ntorus_vol = 2. * math.pi**2 * R * r**2\n\n# Determine bounding ellipsoids\npointvol = torus_vol / npoints\nells = nestle.bounding_ellipsoids(points, pointvol=pointvol)\n\n# plot\nfig = plt.figure(figsize=(10., 10.))\nax = fig.add_subplot(111, projection='3d')\nax.scatter(points[:, 0], points[:, 1], points[:, 2], c='k', marker='.')\nfor ell in ells:\n    plot_ellipsoid_3d(ell, ax)\n\nax.set_xlim(-1., 1.)\nax.set_ylim(-1., 1.)\nax.set_zlim(-1., 1.)\nax.set_aspect('equal')\nfig.tight_layout()\nplt.show()"
      ]
    },
    {
      "cell_type": "markdown",
      "metadata": {},
      "source": [
        "## Single ellipsoid\n\nNestle correctly identifies a cloud of points as belonging to a single\nellipsoid.\n\n"
      ]
    },
    {
      "cell_type": "code",
      "execution_count": null,
      "metadata": {
        "collapsed": false
      },
      "outputs": [],
      "source": [
        "# Generate samples drawn from a single ellipsoid\nnpoints = 100\nA = np.array([[0.25, 1., 0.5],\n              [1., 0.25, 0.5],\n              [0.5, 1., 0.25]])\nell_gen = nestle.Ellipsoid([0., 0., 0.], np.dot(A.T, A))\npoints = ell_gen.samples(npoints)\npointvol = ell_gen.vol / npoints\n\n# Find bounding ellipsoid(s)\nells = nestle.bounding_ellipsoids(points, pointvol)\n\n# plot\nfig = plt.figure(figsize=(10., 10.))\nax = fig.add_subplot(111, projection='3d')\nax.scatter(points[:, 0], points[:, 1], points[:, 2], c='k', marker='.')\nfor ell in ells:\n    plot_ellipsoid_3d(ell, ax)\n\nfig.tight_layout()\nplt.show()"
      ]
    }
  ],
  "metadata": {
    "kernelspec": {
      "display_name": "Python 3",
      "language": "python",
      "name": "python3"
    },
    "language_info": {
      "codemirror_mode": {
        "name": "ipython",
        "version": 3
      },
      "file_extension": ".py",
      "mimetype": "text/x-python",
      "name": "python",
      "nbconvert_exporter": "python",
      "pygments_lexer": "ipython3",
      "version": "3.11.13"
    }
  },
  "nbformat": 4,
  "nbformat_minor": 0
}