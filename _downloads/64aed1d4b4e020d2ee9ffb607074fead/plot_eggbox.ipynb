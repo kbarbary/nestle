{
  "cells": [
    {
      "cell_type": "markdown",
      "metadata": {},
      "source": [
        "\n# Eggbox\n\nA likelihood surface with multiple modes of equal height.\n"
      ]
    },
    {
      "cell_type": "code",
      "execution_count": null,
      "metadata": {
        "collapsed": false
      },
      "outputs": [],
      "source": [
        "import numpy as np\nimport matplotlib.pyplot as plt\nimport corner\n\nimport nestle\n\n\n# Define the posterior density to be sampled:\ntmax = 5.0 * np.pi\nconstant = np.log(1.0 / tmax**2)\n\ndef loglike(x):\n    t = 2.0 * tmax * x - tmax\n    return (2.0 + np.cos(t[0]/2.0)*np.cos(t[1]/2.0))**5.0\n\ndef prior(x):\n    return x\n\n# plot the surface\nplt.figure(figsize=(8., 8.))\nax = plt.axes(aspect=1)\nxx, yy = np.meshgrid(np.linspace(0., 1., 50),\n                     np.linspace(0., 1., 50))\nZ = loglike(np.array([xx, yy]))\nax.contourf(xx, yy, Z, 12, cmap=plt.cm.Blues_r)\nplt.title(\"True Log likelihood surface\")"
      ]
    },
    {
      "cell_type": "markdown",
      "metadata": {},
      "source": [
        "Run nested sampling in multi-ellipsoid mode and print a summary of results:\n\n"
      ]
    },
    {
      "cell_type": "code",
      "execution_count": null,
      "metadata": {
        "collapsed": false
      },
      "outputs": [],
      "source": [
        "res = nestle.sample(loglike, prior, 2, npoints=200, method='multi',\n                    update_interval=20)\nprint(res.summary())"
      ]
    },
    {
      "cell_type": "markdown",
      "metadata": {},
      "source": [
        "Plot the samples. Note that this represents the *likelihood* rather than\nits log, hence it is much more highly peaked.\n\n"
      ]
    },
    {
      "cell_type": "code",
      "execution_count": null,
      "metadata": {
        "collapsed": false
      },
      "outputs": [],
      "source": [
        "fig = corner.corner(res.samples, weights=res.weights, bins=500,\n                    range=[(0., 1.), (0., 1.)])\nfig.set_size_inches(8., 8.)"
      ]
    }
  ],
  "metadata": {
    "kernelspec": {
      "display_name": "Python 3",
      "language": "python",
      "name": "python3"
    },
    "language_info": {
      "codemirror_mode": {
        "name": "ipython",
        "version": 3
      },
      "file_extension": ".py",
      "mimetype": "text/x-python",
      "name": "python",
      "nbconvert_exporter": "python",
      "pygments_lexer": "ipython3",
      "version": "3.11.13"
    }
  },
  "nbformat": 4,
  "nbformat_minor": 0
}