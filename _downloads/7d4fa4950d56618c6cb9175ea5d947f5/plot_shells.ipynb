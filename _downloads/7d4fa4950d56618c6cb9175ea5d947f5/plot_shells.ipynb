{
  "cells": [
    {
      "cell_type": "markdown",
      "metadata": {},
      "source": [
        "\n# Gaussian Shells\n\nToy likelihood model for stress testing multiple-ellipsoid method.\n\nThe problem is:\n\n\\begin{align}\\mathcal{L}(\\theta) = \\mathrm{circ}(\\theta; c_1, r_1, w_1) +\n                         \\mathrm{circ}(\\theta; c_2, r_2, w_2)\\end{align}\n\nwhere\n \n\\begin{align}\\mathrm{circ}(\\theta; c, r, w) = \\frac{1}{\\sqrt{2 \\pi w^2}}\n       \\exp \\left[ - \\frac{(|\\theta - c| - r)^2}{2 w^2} \\right]\\end{align}\n"
      ]
    },
    {
      "cell_type": "code",
      "execution_count": null,
      "metadata": {
        "collapsed": false
      },
      "outputs": [],
      "source": [
        "import math\nimport time\nfrom collections import OrderedDict\n\nimport numpy as np\nfrom numpy.random import RandomState\nfrom matplotlib import pyplot as plt\nfrom mpl_toolkits.mplot3d import Axes3D\n\nimport nestle\n\nrstate = RandomState(0)"
      ]
    },
    {
      "cell_type": "markdown",
      "metadata": {},
      "source": [
        "In the following block, we define the problem. We use r = 2 and w = 0.1,\nmeaning that the  gaussian is quite narrow compared to the size of the\nsphere.\n\n"
      ]
    },
    {
      "cell_type": "code",
      "execution_count": null,
      "metadata": {
        "collapsed": false
      },
      "outputs": [],
      "source": [
        "r = 2.\nw = 0.1\n\nconst = math.log(1. / math.sqrt(2. * math.pi * w**2))\n\ndef logcirc(theta, c):\n    d = np.sqrt(np.sum((theta - c)**2, axis=-1))  # |theta - c|\n    return const - (d - r)**2 / (2. * w**2)\n\ndef loglike(theta, c1, c2):\n    return np.logaddexp(logcirc(theta, c1), logcirc(theta, c2))\n\ndef prior_transform(x):\n    \"\"\"Defines a flat prior between -6 and 6 in all dimensions.\"\"\"\n    return 12. * x - 6."
      ]
    },
    {
      "cell_type": "markdown",
      "metadata": {},
      "source": [
        "## Visualize\n\nIt helps to visualize the surface in two dimensions. Here, we plot the\nlikelihood evaluated on a fine grid and the sample points from nested\nsampling.\n\n"
      ]
    },
    {
      "cell_type": "code",
      "execution_count": null,
      "metadata": {
        "collapsed": false
      },
      "outputs": [],
      "source": [
        "# likelihood surface in 2-d\nxx, yy = np.meshgrid(np.linspace(-6., 6., 200),\n                     np.linspace(-6., 6., 200))\nc1 = np.array([-3.5, 0.])\nc2 = np.array([3.5, 0.])\nZ = np.exp(loglike(np.dstack((xx, yy)), c1, c2))\n\n# nested sampling result\nc1 = np.array([-3.5, 0.])\nc2 = np.array([3.5, 0.])\nf = lambda theta: loglike(theta, c1, c2)\nres = nestle.sample(f, prior_transform, 2, method='multi', npoints=1000,\n                    rstate=rstate)\n\nfig = plt.figure(figsize=(14., 6.))\nax = fig.add_subplot(121, projection='3d')\nax.plot_surface(xx, yy, Z, rstride=1, cstride=1, linewidth=0, cmap='coolwarm')\nax.set_xlim(-6., 6.)\nax.set_ylim(-6., 6.)\nax.set_zlim(0., 4.)\nax.set_zlabel('L')\nax.set_title('Likelihood evaluated on fine grid')\n\nax = fig.add_subplot(122, projection='3d')\nax.scatter(res.samples[:,0], res.samples[:, 1], np.exp(res.logl),\n           marker='.', c=np.exp(res.logl), linewidths=(0.,), cmap='coolwarm')\nax.set_xlim(-6., 6.)\nax.set_ylim(-6., 6.)\nax.set_zlim(0., 4.)\nax.set_zlabel('L')\nax.set_title('Nested sampling points');"
      ]
    },
    {
      "cell_type": "markdown",
      "metadata": {},
      "source": [
        "## Scaling with dimension\n\nHere, we demonstrate how the algorithm scales with dimension and compare\nthe total evidence to the analytic answer.\n\n"
      ]
    },
    {
      "cell_type": "code",
      "execution_count": null,
      "metadata": {
        "collapsed": false
      },
      "outputs": [],
      "source": [
        "npoints = 1000\n\ndef run(ndim):\n    \"\"\"Convenience function for running in any dimension\"\"\"\n\n    c1 = np.zeros(ndim)\n    c1[0] = -3.5\n    c2 = np.zeros(ndim)\n    c2[0] = 3.5\n    f = lambda theta: loglike(theta, c1, c2)\n    \n    return nestle.sample(f, prior_transform, ndim, method='multi',\n                         npoints=npoints, rstate=rstate)\n\n# Run over dimensions and save time for each run.\nresults = OrderedDict()\nfor ndim in [2, 5, 10, 20]:\n    t0 = time.time()\n    results[ndim] = run(ndim)\n    results[ndim].time = time.time() - t0\n\nanalytic_logz = {2: -1.75,\n                 5: -5.67,\n                 10: -14.59,\n                 20: -36.09}\n\nprint(\"D  analytic    logz  logzerr   nlike  eff(%)   time\")\nfor ndim, res in results.items():\n    eff = 100. * res.niter/(res.ncall - npoints)\n    print(\"{:2d}   {:6.2f}  {:6.2f}     {:4.2f}  {:6d}   {:5.2f}  {:6.2f}\"\n          .format(ndim, analytic_logz[ndim], res.logz, res.logzerr,\n                  res.ncall, eff, res.time))"
      ]
    }
  ],
  "metadata": {
    "kernelspec": {
      "display_name": "Python 3",
      "language": "python",
      "name": "python3"
    },
    "language_info": {
      "codemirror_mode": {
        "name": "ipython",
        "version": 3
      },
      "file_extension": ".py",
      "mimetype": "text/x-python",
      "name": "python",
      "nbconvert_exporter": "python",
      "pygments_lexer": "ipython3",
      "version": "3.11.13"
    }
  },
  "nbformat": 4,
  "nbformat_minor": 0
}